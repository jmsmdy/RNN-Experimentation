{
 "cells": [
  {
   "cell_type": "code",
   "execution_count": 2,
   "metadata": {},
   "outputs": [],
   "source": [
    "import os\n",
    "import numpy as np\n",
    "import tensorflow as tf\n",
    "\n",
    "\n",
    "def load_minibatch(index, var):\n",
    "    shape = np.load(os.path.join('DATA', 'MINIBATCHES', f'{index}_shape.npy'))\n",
    "    for i in range(len(shape)):\n",
    "        if var.shape[i] == None:\n",
    "            continue\n",
    "        elif var.shape[i] != shape[i]:\n",
    "            raise ValueError('Shape of minibatch and variable are incompatible')\n",
    "    \n",
    "    indices = np.load(os.path.join('DATA', 'MINIBATCHES', f'{index}_indices.npy'))\n",
    "    values = np.load(os.path.join('DATA', 'MINIBATCHES', f'{index}_values.npy'))\n",
    "    sparse_tensor = tf.sparse.SparseTensor(indices=indices, values=values, dense_shape=shape)\n",
    "    var.assign(tf.cast(tf.sparse.to_dense(sparse_tensor), dtype=tf.float32))"
   ]
  },
  {
   "cell_type": "code",
   "execution_count": 3,
   "metadata": {},
   "outputs": [],
   "source": [
    "var = tf.Variable(tf.zeros([500, 30, 10002]), dtype=tf.float32, shape=[None, 30, 10002])\n",
    "\n",
    "load_minibatch(0, var)"
   ]
  },
  {
   "cell_type": "code",
   "execution_count": 4,
   "metadata": {},
   "outputs": [],
   "source": [
    "import os\n",
    "import json\n",
    "\n",
    "with open(os.path.join('DATA', 'numberize.json'), 'r') as f:\n",
    "    numberize = json.load(f)\n",
    "        \n",
    "with open(os.path.join('DATA', 'reverse_numberize.json'), 'r') as f:\n",
    "    reverse_numberize = json.load(f)"
   ]
  },
  {
   "cell_type": "code",
   "execution_count": 5,
   "metadata": {},
   "outputs": [],
   "source": [
    "def verbalize_sentence(numberized_sentence):\n",
    "    words = [reverse_numberize[str(word_number)] for word_number in numberized_sentence if word_number != 10001]\n",
    "    return ' '.join(words)\n",
    "\n",
    "def verbalize(vectorized_sentences):\n",
    "    numberized_sentences = tf.argmax(vectorized_sentences, axis=2).numpy()\n",
    "    return list(map(verbalize_sentence, numberized_sentences))"
   ]
  },
  {
   "cell_type": "code",
   "execution_count": 115,
   "metadata": {},
   "outputs": [],
   "source": [
    "import numpy as np\n",
    "\n",
    "class BatchGenerator(object):\n",
    "\n",
    "    def __init__(self, num_batches, hidden_size):\n",
    "        self.num_batches = num_batches\n",
    "        self.current_idx = 0\n",
    "        self.x = tf.Variable(np.zeros([500, 30, 10002]), dtype=tf.float32, shape=[None, 30, 10002])\n",
    "        \n",
    "    def generate(self):\n",
    "        while True:\n",
    "            load_minibatch(self.current_idx, self.x)\n",
    "            self.current_idx = (self.current_idx + 1) % self.num_batches\n",
    "            X = np.stack([np.zeros([500, 10002])] + [self.x[:, i, :].numpy() for i in range(29)], axis=1)\n",
    "            Y = [self.x[:, i, :].numpy() for i in range(30)]\n",
    "            hidden_state_0 = np.zeros((500, hidden_size))\n",
    "            cell_state_0 = np.zeros((500, hidden_size))\n",
    "            yield [[X, hidden_state_0, cell_state_0], Y]\n",
    "            \n",
    "num_batches = 6806\n",
    "batch_generator = BatchGenerator(6806, 128).generate()"
   ]
  },
  {
   "cell_type": "code",
   "execution_count": 7,
   "metadata": {},
   "outputs": [
    {
     "name": "stderr",
     "output_type": "stream",
     "text": [
      "Using TensorFlow backend.\n"
     ]
    }
   ],
   "source": [
    "from keras import Model, Input\n",
    "from keras.layers import Dense, Activation, Dropout, LSTM, Lambda, Reshape\n",
    "from keras.optimizers import Adam\n",
    "\n",
    "sequence_length = 30\n",
    "vocab_size = 10002\n",
    "hidden_size = 128\n",
    "\n",
    "Reshape_cell = Reshape((1, vocab_size)) \n",
    "LSTM_cell = LSTM(hidden_size, return_state = True)\n",
    "Dense_cell = Dense(vocab_size, activation='softmax')\n",
    "\n",
    "def LSTM_model(sequence_length, hidden_size, vocab_size):\n",
    "    \"\"\"\n",
    "    Arguments:\n",
    "    sequence_length -- length of input sequences\n",
    "    hidden_size -- number of hidden units in LSTM cell\n",
    "    vocab_size -- size of vocabulary in corpus \n",
    "    \n",
    "    Returns:\n",
    "    a keras model\n",
    "    \"\"\"\n",
    "    \n",
    "    # Define inputs to LSTM\n",
    "    X = Input(shape=(sequence_length, vocab_size), name='sequence_input')\n",
    "    hidden_state_0 = Input(shape=(hidden_size,), name='hidden_state_0')\n",
    "    cell_state_0 = Input(shape=(hidden_size,), name='cell_state_0')\n",
    "    \n",
    "    hidden_state = hidden_state_0\n",
    "    cell_state = cell_state_0\n",
    "    outputs = []\n",
    "    for t in range(sequence_length):\n",
    "        # Select t-th time slice\n",
    "        x = Lambda(lambda y: y[:, t, :])(X)\n",
    "        # Rehapse and apply LSTM_cell to time slice\n",
    "        x = Reshape_cell(x)\n",
    "        hidden_state, _, cell_state = LSTM_cell(inputs=x, initial_state=[hidden_state, cell_state])\n",
    "        # Apply Dense_cell to output\n",
    "        output = Dense_cell(hidden_state)\n",
    "        outputs.append(output)\n",
    "        \n",
    "    model = Model(inputs=[X, hidden_state_0, cell_state_0], outputs=outputs)\n",
    "    \n",
    "    return model\n",
    "\n",
    "model = LSTM_model(sequence_length, hidden_size, vocab_size)\n",
    "optimizer = Adam(lr=0.01, beta_1=0.9, beta_2=0.999, decay=0.01)\n",
    "\n",
    "model.compile(optimizer=optimizer, loss='categorical_crossentropy', metrics=['accuracy'])"
   ]
  },
  {
   "cell_type": "code",
   "execution_count": 52,
   "metadata": {},
   "outputs": [
    {
     "name": "stdout",
     "output_type": "stream",
     "text": [
      "Epoch 1/1\n",
      "2/2 [==============================] - 46s 23s/step - loss: 93.9160 - dense_1_loss: 8.5459e-05 - dense_1_accuracy: 0.2000 - dense_1_accuracy_1: 0.1650 - dense_1_accuracy_2: 0.1830 - dense_1_accuracy_3: 0.1850 - dense_1_accuracy_4: 0.1920 - dense_1_accuracy_5: 0.1940 - dense_1_accuracy_6: 0.2170 - dense_1_accuracy_7: 0.2380 - dense_1_accuracy_8: 0.2600 - dense_1_accuracy_9: 0.2810 - dense_1_accuracy_10: 0.3230 - dense_1_accuracy_11: 0.3500 - dense_1_accuracy_12: 0.3900 - dense_1_accuracy_13: 0.4280 - dense_1_accuracy_14: 0.4780 - dense_1_accuracy_15: 0.5030 - dense_1_accuracy_16: 0.5510 - dense_1_accuracy_17: 0.5980 - dense_1_accuracy_18: 0.6430 - dense_1_accuracy_19: 0.6720 - dense_1_accuracy_20: 0.7220 - dense_1_accuracy_21: 0.7730 - dense_1_accuracy_22: 0.8080 - dense_1_accuracy_23: 0.8500 - dense_1_accuracy_24: 0.8860 - dense_1_accuracy_25: 0.9130 - dense_1_accuracy_26: 0.9460 - dense_1_accuracy_27: 0.9760 - dense_1_accuracy_28: 1.0000 - dense_1_accuracy_29: 1.0000\n"
     ]
    },
    {
     "data": {
      "text/plain": [
       "<keras.callbacks.callbacks.History at 0x6bba4c518>"
      ]
     },
     "execution_count": 52,
     "metadata": {},
     "output_type": "execute_result"
    }
   ],
   "source": [
    "batches_per_epoch = 6706\n",
    "num_epochs = 1\n",
    "\n",
    "model.fit_generator(batch_generator, batches_per_epoch, num_epochs)"
   ]
  },
  {
   "cell_type": "code",
   "execution_count": 49,
   "metadata": {},
   "outputs": [],
   "source": [
    "model.save_weights('model.h5')"
   ]
  },
  {
   "cell_type": "code",
   "execution_count": null,
   "metadata": {},
   "outputs": [],
   "source": []
  },
  {
   "cell_type": "code",
   "execution_count": null,
   "metadata": {},
   "outputs": [],
   "source": []
  },
  {
   "cell_type": "code",
   "execution_count": null,
   "metadata": {},
   "outputs": [],
   "source": [
    "model.load_weights('model.h5')"
   ]
  },
  {
   "cell_type": "code",
   "execution_count": 95,
   "metadata": {},
   "outputs": [],
   "source": [
    "def one_hot_random_sample(distribution):\n",
    "    sample_index = tf.random.categorical(tf.math.log(distribution), 1)\n",
    "    result = tf.one_hot(indices=sample_index, depth=vocab_size)\n",
    "    return result\n",
    "\n",
    "Random_sample_cell = Lambda(one_hot_random_sample)\n",
    "\n",
    "def GeneratorModel(hidden_size, vocab_size, sequence_length):\n",
    "\n",
    "    X = Input(shape=(1, vocab_size), name='initial_input')\n",
    "    hidden_state_0 = Input(shape=(hidden_size,), name='hidden_state_0')\n",
    "    cell_state_0 = Input(shape=(hidden_size,), name='cell_state_0')\n",
    "    \n",
    "    hidden_state = hidden_state_0\n",
    "    cell_state = cell_state_0\n",
    "    \n",
    "    outputs = []\n",
    "    x = Lambda(lambda y: y[:, 0, :])(X)\n",
    "    x = Reshape_cell(x)\n",
    "    hidden_state, _, cell_state = LSTM_cell(inputs=x, initial_state=[hidden_state, cell_state])\n",
    "    distribution = Dense_cell2(hidden_state)\n",
    "    result = Random_sample_cell(distribution)\n",
    "    outputs.append(result)\n",
    "    for t in range(1, sequence_length):\n",
    "        hidden_state, _, cell_state = LSTM_cell(inputs=result, initial_state=[hidden_state, cell_state])\n",
    "        distribution = Dense_cell2(hidden_state)\n",
    "        result = Random_sample_cell(distribution)\n",
    "        outputs.append(result)\n",
    "        \n",
    "    model = Model(inputs=[X, hidden_state_0, cell_state_0], outputs=outputs)\n",
    "    \n",
    "    return model\n",
    "\n",
    "generator_model = GeneratorModel(hidden_size, vocab_size, sequence_length)"
   ]
  },
  {
   "cell_type": "code",
   "execution_count": 114,
   "metadata": {},
   "outputs": [
    {
     "name": "stdout",
     "output_type": "stream",
     "text": [
      "I do so again .\n"
     ]
    }
   ],
   "source": [
    "def decode(result):\n",
    "    word_indices = [np.argmax(word_vector) for word_vector in result]\n",
    "    sentence = verbalize_sentence(word_indices)\n",
    "    return sentence\n",
    "\n",
    "X = np.zeros((1,1,vocab_size))\n",
    "hidden_state_0 = np.zeros((1, hidden_size))\n",
    "cell_state_0 = np.zeros((1, hidden_size))\n",
    "\n",
    "result = generator_model.predict([X, hidden_state_0, cell_state_0])\n",
    "sentence = decode(result)\n",
    "print(sentence)\n"
   ]
  }
 ],
 "metadata": {
  "kernelspec": {
   "display_name": "Python 3",
   "language": "python",
   "name": "python3"
  },
  "language_info": {
   "codemirror_mode": {
    "name": "ipython",
    "version": 3
   },
   "file_extension": ".py",
   "mimetype": "text/x-python",
   "name": "python",
   "nbconvert_exporter": "python",
   "pygments_lexer": "ipython3",
   "version": "3.7.3"
  }
 },
 "nbformat": 4,
 "nbformat_minor": 2
}
