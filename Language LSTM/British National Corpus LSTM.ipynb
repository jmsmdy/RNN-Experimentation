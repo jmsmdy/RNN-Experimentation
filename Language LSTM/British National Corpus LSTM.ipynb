{
 "cells": [
  {
   "cell_type": "code",
   "execution_count": 2,
   "metadata": {},
   "outputs": [],
   "source": [
    "import os\n",
    "import numpy as np\n",
    "import tensorflow as tf\n",
    "\n",
    "\n",
    "def load_minibatch(index, var):\n",
    "    shape = np.load(os.path.join('DATA', 'MINIBATCHES', f'{index}_shape.npy'))\n",
    "    for i in range(len(shape)):\n",
    "        if var.shape[i] == None:\n",
    "            continue\n",
    "        elif var.shape[i] != shape[i]:\n",
    "            raise ValueError('Shape of minibatch and variable are incompatible')\n",
    "    \n",
    "    indices = np.load(os.path.join('DATA', 'MINIBATCHES', f'{index}_indices.npy'))\n",
    "    values = np.load(os.path.join('DATA', 'MINIBATCHES', f'{index}_values.npy'))\n",
    "    sparse_tensor = tf.sparse.SparseTensor(indices=indices, values=values, dense_shape=shape)\n",
    "    var.assign(tf.cast(tf.sparse.to_dense(sparse_tensor), dtype=tf.float32))"
   ]
  },
  {
   "cell_type": "code",
   "execution_count": 3,
   "metadata": {},
   "outputs": [],
   "source": [
    "var = tf.Variable(tf.zeros([500, 30, 10002]), dtype=tf.float32, shape=[None, 30, 10002])\n",
    "\n",
    "load_minibatch(0, var)"
   ]
  },
  {
   "cell_type": "code",
   "execution_count": 5,
   "metadata": {},
   "outputs": [],
   "source": [
    "import os\n",
    "import json\n",
    "\n",
    "with open(os.path.join('DATA', 'numberize.json'), 'r') as f:\n",
    "    numberize = json.load(f)\n",
    "        \n",
    "with open(os.path.join('DATA', 'reverse_numberize.json'), 'r') as f:\n",
    "    reverse_numberize = json.load(f)"
   ]
  },
  {
   "cell_type": "code",
   "execution_count": 32,
   "metadata": {},
   "outputs": [],
   "source": [
    "def verbalize_sentence(numberized_sentence):\n",
    "    words = [reverse_numberize[str(word_number)] for word_number in numberized_sentence if word_number != 10001]\n",
    "    return ' '.join(words)\n",
    "\n",
    "def verbalize(vectorized_sentences):\n",
    "    numberized_sentences = tf.argmax(vectorized_sentences, axis=2).numpy()\n",
    "    return list(map(verbalize_sentence, numberized_sentences))"
   ]
  },
  {
   "cell_type": "code",
   "execution_count": 88,
   "metadata": {},
   "outputs": [],
   "source": [
    "class BatchGenerator(object):\n",
    "\n",
    "    def __init__(self, num_batches):\n",
    "        self.num_batches = num_batches\n",
    "        self.current_idx = 0\n",
    "        self.x = tf.Variable(tf.zeros([500, 30, 10002]), dtype=tf.float32, shape=[None, 30, 10002])\n",
    "        self.y = tf.Variable(tf.zeros([500, 30, 10002]), dtype=tf.float32, shape=[None, 30, 10002])\n",
    "        \n",
    "    def generate(self):\n",
    "        while True:\n",
    "            load_minibatch(self.current_idx, self.x)\n",
    "            self.y[:, 0, :].assign(tf.zeros([500, 10002]))\n",
    "            for i in range(0,29):\n",
    "                self.y[:, i+1, :].assign(self.x[:, i, :])\n",
    "            self.current_idx = (self.current_idx + 1) % self.num_batches\n",
    "            yield tf.identity(self.x), tf.identity(self.y)\n",
    "            \n",
    "num_batches = 6807\n",
    "batch_generator = BatchGenerator(6807).generate()"
   ]
  },
  {
   "cell_type": "code",
   "execution_count": 136,
   "metadata": {},
   "outputs": [],
   "source": [
    "from keras import Sequential\n",
    "from keras.layers import LSTM, TimeDistributed, Dense, Activation\n",
    "\n",
    "model = Sequential()\n",
    "model.add(LSTM(256, input_shape=(None, 10002), return_sequences=True))\n",
    "model.add(LSTM(256, return_sequences=True))\n",
    "model.add(TimeDistributed(Dense(10002)))\n",
    "model.add(Activation('softmax'))"
   ]
  },
  {
   "cell_type": "code",
   "execution_count": 137,
   "metadata": {},
   "outputs": [],
   "source": [
    "model.compile(loss='categorical_crossentropy', optimizer='adam', metrics=['categorical_accuracy'])"
   ]
  },
  {
   "cell_type": "code",
   "execution_count": 138,
   "metadata": {},
   "outputs": [
    {
     "name": "stdout",
     "output_type": "stream",
     "text": [
      "Epoch 1/1\n",
      "5/5 [==============================] - 623s 125s/step - loss: 8.8541 - categorical_accuracy: 0.3931\n"
     ]
    },
    {
     "data": {
      "text/plain": [
       "<keras.callbacks.callbacks.History at 0x642ae1b00>"
      ]
     },
     "execution_count": 138,
     "metadata": {},
     "output_type": "execute_result"
    }
   ],
   "source": [
    "batches_to_process = 5\n",
    "\n",
    "model.fit_generator(batch_generator, batches_to_process, 1)"
   ]
  },
  {
   "cell_type": "code",
   "execution_count": 146,
   "metadata": {},
   "outputs": [],
   "source": [
    "word_vec = np.zeros((1, 1, 10002))\n",
    "word_vec[0, 0, 1] = 1"
   ]
  },
  {
   "cell_type": "code",
   "execution_count": 147,
   "metadata": {},
   "outputs": [],
   "source": [
    "res = model.predict(word_vec)"
   ]
  },
  {
   "cell_type": "code",
   "execution_count": 148,
   "metadata": {},
   "outputs": [
    {
     "data": {
      "text/plain": [
       "array([[10001]])"
      ]
     },
     "execution_count": 148,
     "metadata": {},
     "output_type": "execute_result"
    }
   ],
   "source": [
    "np.argmax(res, axis=2)"
   ]
  },
  {
   "cell_type": "code",
   "execution_count": null,
   "metadata": {},
   "outputs": [],
   "source": []
  }
 ],
 "metadata": {
  "kernelspec": {
   "display_name": "Python 3",
   "language": "python",
   "name": "python3"
  },
  "language_info": {
   "codemirror_mode": {
    "name": "ipython",
    "version": 3
   },
   "file_extension": ".py",
   "mimetype": "text/x-python",
   "name": "python",
   "nbconvert_exporter": "python",
   "pygments_lexer": "ipython3",
   "version": "3.7.3"
  }
 },
 "nbformat": 4,
 "nbformat_minor": 2
}
