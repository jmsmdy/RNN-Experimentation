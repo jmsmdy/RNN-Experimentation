{
 "cells": [
  {
   "cell_type": "code",
   "execution_count": 14,
   "metadata": {},
   "outputs": [],
   "source": [
    "import os\n",
    "import numpy as np\n",
    "import tensorflow as tf\n",
    "\n",
    "\n",
    "def load_minibatch(index, var):\n",
    "    shape = np.load(os.path.join('DATA', 'MINIBATCHES', f'{index}_shape.npy'))\n",
    "    for i in range(len(shape)):\n",
    "        if var.shape[i] == None:\n",
    "            continue\n",
    "        elif var.shape[i] != shape[i]:\n",
    "            raise ValueError('Shape of minibatch and variable are incompatible')\n",
    "    \n",
    "    indices = np.load(os.path.join('DATA', 'MINIBATCHES', f'{index}_indices.npy'))\n",
    "    values = np.load(os.path.join('DATA', 'MINIBATCHES', f'{index}_values.npy'))\n",
    "    sparse_tensor = tf.sparse.SparseTensor(indices=indices, values=values, dense_shape=shape)\n",
    "    var.assign(tf.cast(tf.sparse.to_dense(sparse_tensor), dtype=tf.float32))"
   ]
  },
  {
   "cell_type": "code",
   "execution_count": 15,
   "metadata": {},
   "outputs": [],
   "source": [
    "var = tf.Variable(tf.zeros([500, 30, 10002]), dtype=tf.float32, shape=[None, 30, 10002])\n",
    "\n",
    "load_minibatch(0, var)"
   ]
  },
  {
   "cell_type": "code",
   "execution_count": null,
   "metadata": {},
   "outputs": [],
   "source": []
  }
 ],
 "metadata": {
  "kernelspec": {
   "display_name": "Python 3",
   "language": "python",
   "name": "python3"
  },
  "language_info": {
   "codemirror_mode": {
    "name": "ipython",
    "version": 3
   },
   "file_extension": ".py",
   "mimetype": "text/x-python",
   "name": "python",
   "nbconvert_exporter": "python",
   "pygments_lexer": "ipython3",
   "version": "3.7.3"
  }
 },
 "nbformat": 4,
 "nbformat_minor": 2
}
