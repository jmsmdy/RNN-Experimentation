{
 "cells": [
  {
   "cell_type": "code",
   "execution_count": 2,
   "metadata": {},
   "outputs": [],
   "source": [
    "import os\n",
    "import numpy as np\n",
    "import tensorflow as tf\n",
    "\n",
    "\n",
    "def load_minibatch(index, var):\n",
    "    shape = np.load(os.path.join('DATA', 'MINIBATCHES', f'{index}_shape.npy'))\n",
    "    for i in range(len(shape)):\n",
    "        if var.shape[i] == None:\n",
    "            continue\n",
    "        elif var.shape[i] != shape[i]:\n",
    "            raise ValueError('Shape of minibatch and variable are incompatible')\n",
    "    \n",
    "    indices = np.load(os.path.join('DATA', 'MINIBATCHES', f'{index}_indices.npy'))\n",
    "    values = np.load(os.path.join('DATA', 'MINIBATCHES', f'{index}_values.npy'))\n",
    "    sparse_tensor = tf.sparse.SparseTensor(indices=indices, values=values, dense_shape=shape)\n",
    "    var.assign(tf.cast(tf.sparse.to_dense(sparse_tensor), dtype=tf.float32))"
   ]
  },
  {
   "cell_type": "code",
   "execution_count": 3,
   "metadata": {},
   "outputs": [],
   "source": [
    "var = tf.Variable(tf.zeros([500, 30, 10002]), dtype=tf.float32, shape=[None, 30, 10002])\n",
    "\n",
    "load_minibatch(0, var)"
   ]
  },
  {
   "cell_type": "code",
   "execution_count": 4,
   "metadata": {},
   "outputs": [],
   "source": [
    "import os\n",
    "import json\n",
    "\n",
    "with open(os.path.join('DATA', 'numberize.json'), 'r') as f:\n",
    "    numberize = json.load(f)\n",
    "        \n",
    "with open(os.path.join('DATA', 'reverse_numberize.json'), 'r') as f:\n",
    "    reverse_numberize = json.load(f)"
   ]
  },
  {
   "cell_type": "code",
   "execution_count": 5,
   "metadata": {},
   "outputs": [],
   "source": [
    "def verbalize_sentence(numberized_sentence):\n",
    "    words = [reverse_numberize[str(word_number)] for word_number in numberized_sentence if word_number != 10001]\n",
    "    return ' '.join(words)\n",
    "\n",
    "def verbalize(vectorized_sentences):\n",
    "    numberized_sentences = tf.argmax(vectorized_sentences, axis=2).numpy()\n",
    "    return list(map(verbalize_sentence, numberized_sentences))"
   ]
  },
  {
   "cell_type": "code",
   "execution_count": 6,
   "metadata": {},
   "outputs": [],
   "source": [
    "class BatchGenerator(object):\n",
    "\n",
    "    def __init__(self, num_batches, hidden_size):\n",
    "        self.num_batches = num_batches\n",
    "        self.current_idx = 0\n",
    "        self.x = tf.Variable(tf.zeros([500, 30, 10002]), dtype=tf.float32, shape=[None, 30, 10002])\n",
    "        self.hidden_state_0 = tf.zeros((500, hidden_size))\n",
    "        self.cell_state_0 = tf.zeros((500, hidden_size))\n",
    "        \n",
    "    def generate(self):\n",
    "        while True:\n",
    "            load_minibatch(self.current_idx, self.x)\n",
    "            self.current_idx = (self.current_idx + 1) % self.num_batches\n",
    "            yield [[tf.zeros([500, 10002])] + [self.x[:, i, :] for i in range(29)], self.hidden_state_0, self.cell_state_0], [self.x[:, i, :] for i in range(30)]\n",
    "            \n",
    "num_batches = 6807\n",
    "batch_generator = BatchGenerator(6807, 128).generate()"
   ]
  },
  {
   "cell_type": "code",
   "execution_count": null,
   "metadata": {},
   "outputs": [],
   "source": [
    "from keras import Sequential\n",
    "from keras.layers import LSTM, TimeDistributed, Dense, Activation\n",
    "\n",
    "model = Sequential()\n",
    "model.add(LSTM(256, input_shape=(None, 10002), return_sequences=True))\n",
    "model.add(LSTM(256, return_sequences=True))\n",
    "model.add(TimeDistributed(Dense(10002)))\n",
    "model.add(Activation('softmax'))"
   ]
  },
  {
   "cell_type": "code",
   "execution_count": null,
   "metadata": {},
   "outputs": [],
   "source": []
  },
  {
   "cell_type": "code",
   "execution_count": null,
   "metadata": {},
   "outputs": [],
   "source": [
    "from keras import Model, Input\n",
    "from keras.layers import Dense, Activation, Dropout, LSTM, Lambda, Reshape\n",
    "from keras.optimizers import Adam\n",
    "\n",
    "sequence_length = 30\n",
    "vocab_size = 10002\n",
    "hidden_size = 128\n",
    "\n",
    "Reshape_cell = Reshape((1, vocab_size)) \n",
    "LSTM_cell = LSTM(hidden_size, return_state = True)\n",
    "Dense_cell = Dense(vocab_size, activation='softmax')\n",
    "\n",
    "def LSTM_model(sequence_length, hidden_size, vocab_size):\n",
    "    \"\"\"\n",
    "    Arguments:\n",
    "    sequence_length -- length of input sequences\n",
    "    hidden_size -- number of hidden units in LSTM cell\n",
    "    vocab_size -- size of vocabulary in corpus \n",
    "    \n",
    "    Returns:\n",
    "    a keras model\n",
    "    \"\"\"\n",
    "    \n",
    "    # Define inputs to LSTM\n",
    "    X = Input(shape=(sequence_length, vocab_size), name='sequence_input')\n",
    "    hidden_state_0 = Input(shape=(hidden_size,), name='hidden_state_0')\n",
    "    cell_state_0 = Input(shape=(hidden_size,), name='cell_state_0')\n",
    "    \n",
    "    hidden_state = hidden_state_0\n",
    "    cell_state = cell_state_0\n",
    "    outputs = []\n",
    "    for t in range(sequence_length):\n",
    "        # Select t-th time slice\n",
    "        x = Lambda(lambda y: y[:, t, :])(X)\n",
    "        # Rehapse and apply LSTM_cell to time slice\n",
    "        x = Reshape_cell(x)\n",
    "        hidden_state, _, cell_state = LSTM_cell(inputs=x, initial_state=[hidden_state, cell_state])\n",
    "        # Apply Dense_cell to output of LSTM\n",
    "        output = Dense_cell(hidden_state)\n",
    "        # Step 2.E: add the output to \"outputs\"\n",
    "        outputs.append(output)\n",
    "    \n",
    "    # Step 3: Create model instance\n",
    "    model = Model(inputs=[X, hidden_state_0, cell_state_0], outputs=outputs)\n",
    "    \n",
    "    ### END CODE HERE ###\n",
    "    \n",
    "    return model\n",
    "\n",
    "model = LSTM_model(sequence_length, hidden_size, vocab_size)\n",
    "optimizer = Adam(lr=0.01, beta_1=0.9, beta_2=0.999, decay=0.01)\n",
    "\n",
    "model.compile(optimizer=optimizer, loss='categorical_crossentropy', metrics=['accuracy'])"
   ]
  },
  {
   "cell_type": "code",
   "execution_count": null,
   "metadata": {},
   "outputs": [],
   "source": [
    "model.summary()"
   ]
  },
  {
   "cell_type": "code",
   "execution_count": null,
   "metadata": {},
   "outputs": [],
   "source": [
    "stuff = batch_generator.__next__()"
   ]
  },
  {
   "cell_type": "code",
   "execution_count": null,
   "metadata": {},
   "outputs": [],
   "source": [
    "[x, a0, c0], y = stuff"
   ]
  },
  {
   "cell_type": "code",
   "execution_count": null,
   "metadata": {},
   "outputs": [],
   "source": [
    "model.fit([x, a0, c0], y, epochs=1)"
   ]
  },
  {
   "cell_type": "code",
   "execution_count": null,
   "metadata": {},
   "outputs": [],
   "source": []
  },
  {
   "cell_type": "code",
   "execution_count": null,
   "metadata": {},
   "outputs": [],
   "source": [
    "from keras import Sequential\n",
    "from keras.layers import LSTM, TimeDistributed, Dense, Activation\n",
    "\n",
    "model = Sequential()\n",
    "model.add(LSTM(256, input_shape=(None, 10002), return_sequences=True))\n",
    "model.add(LSTM(256, return_sequences=True))\n",
    "model.add(TimeDistributed(Dense(10002)))\n",
    "model.add(Activation('softmax'))"
   ]
  },
  {
   "cell_type": "code",
   "execution_count": null,
   "metadata": {},
   "outputs": [],
   "source": [
    "model.compile(loss='categorical_crossentropy', optimizer='adam', metrics=['categorical_accuracy'])"
   ]
  },
  {
   "cell_type": "code",
   "execution_count": null,
   "metadata": {},
   "outputs": [],
   "source": [
    "batches_to_process = 5\n",
    "\n",
    "model.fit_generator(batch_generator, batches_to_process, 1)"
   ]
  },
  {
   "cell_type": "code",
   "execution_count": null,
   "metadata": {},
   "outputs": [],
   "source": [
    "word_vec = np.zeros((1, 1, 10002))\n",
    "word_vec[0, 0, 1] = 1"
   ]
  },
  {
   "cell_type": "code",
   "execution_count": null,
   "metadata": {},
   "outputs": [],
   "source": [
    "res = model.predict(word_vec)"
   ]
  },
  {
   "cell_type": "code",
   "execution_count": null,
   "metadata": {},
   "outputs": [],
   "source": [
    "np.argmax(res, axis=2)"
   ]
  },
  {
   "cell_type": "code",
   "execution_count": null,
   "metadata": {},
   "outputs": [],
   "source": []
  }
 ],
 "metadata": {
  "kernelspec": {
   "display_name": "Python 3",
   "language": "python",
   "name": "python3"
  },
  "language_info": {
   "codemirror_mode": {
    "name": "ipython",
    "version": 3
   },
   "file_extension": ".py",
   "mimetype": "text/x-python",
   "name": "python",
   "nbconvert_exporter": "python",
   "pygments_lexer": "ipython3",
   "version": "3.7.3"
  }
 },
 "nbformat": 4,
 "nbformat_minor": 2
}
